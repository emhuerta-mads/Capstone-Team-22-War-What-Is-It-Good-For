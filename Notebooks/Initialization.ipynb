%%bash
# If your project has a 'requirements.txt' file, we'll install it here.
if test -f requirements.txt
  then
    pip install -r ./requirements.txt
  else echo "There's no requirements.txt, so nothing to install."
fi
