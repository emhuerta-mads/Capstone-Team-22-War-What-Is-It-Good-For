{
 "cells": [
  {
   "cell_type": "markdown",
   "metadata": {
    "cell_id": "f30b653c41204cb5a7cf014db31d8501",
    "deepnote_cell_type": "text-cell-h2",
    "formattedRanges": []
   },
   "source": [
    "## Time Series Forecasting: XGBOOST"
   ]
  },
  {
   "cell_type": "markdown",
   "metadata": {
    "cell_id": "3c304e9f7d6043b5b82fe8f5785733b8",
    "deepnote_cell_type": "text-cell-h3",
    "formattedRanges": []
   },
   "source": [
    "### Prepare Data"
   ]
  },
  {
   "cell_type": "markdown",
   "metadata": {
    "cell_id": "40cff1fac7ec4a2fb2576dc5fe627275",
    "deepnote_cell_type": "markdown"
   },
   "source": [
    "<strong>Refresh Data Preparation Notebook & Variables</strong>"
   ]
  },
  {
   "cell_type": "code",
   "execution_count": 1,
   "metadata": {
    "cell_id": "ee7b0956413b4aa99e3991afb2fc2f5f",
    "deepnote_cell_type": "code",
    "deepnote_to_be_reexecuted": false,
    "execution_millis": 7271,
    "execution_start": 1702519088752,
    "source_hash": null
   },
   "outputs": [
    {
     "name": "stdout",
     "output_type": "stream",
     "text": [
      "\n",
      "Economic datasets:\n",
      "cpi_df\n",
      "gdp_df\n",
      "fedrev_df\n",
      "pce_df\n",
      "fedfunds_df\n",
      "feddebt_df\n",
      "psave_df\n",
      "revolcredit_df\n",
      "cc_outstanding_df\n",
      "unemploy_df\n",
      "sgdp_df\n",
      "infl_df\n",
      "\n",
      "merged_df:\n"
     ]
    },
    {
     "data": {
      "text/html": [
       "<div>\n",
       "<style scoped>\n",
       "    .dataframe tbody tr th:only-of-type {\n",
       "        vertical-align: middle;\n",
       "    }\n",
       "\n",
       "    .dataframe tbody tr th {\n",
       "        vertical-align: top;\n",
       "    }\n",
       "\n",
       "    .dataframe thead th {\n",
       "        text-align: right;\n",
       "    }\n",
       "</style>\n",
       "<table border=\"1\" class=\"dataframe\">\n",
       "  <thead>\n",
       "    <tr style=\"text-align: right;\">\n",
       "      <th></th>\n",
       "      <th>DATE</th>\n",
       "      <th>CPI</th>\n",
       "      <th>GDP</th>\n",
       "      <th>FEDREV_mm_nom</th>\n",
       "      <th>PCE</th>\n",
       "      <th>FEDFUNDS</th>\n",
       "      <th>GFDEBTN</th>\n",
       "      <th>PSAVERT</th>\n",
       "      <th>REVOLSL</th>\n",
       "      <th>TOTALSL</th>\n",
       "      <th>UNRATE</th>\n",
       "      <th>SGDP</th>\n",
       "      <th>INFL</th>\n",
       "    </tr>\n",
       "  </thead>\n",
       "  <tbody>\n",
       "    <tr>\n",
       "      <th>1033</th>\n",
       "      <td>2023-08-01</td>\n",
       "      <td>306.269</td>\n",
       "      <td>NaN</td>\n",
       "      <td>NaN</td>\n",
       "      <td>18689.9</td>\n",
       "      <td>5.33</td>\n",
       "      <td>NaN</td>\n",
       "      <td>4.2</td>\n",
       "      <td>1288.12390</td>\n",
       "      <td>4972.49265</td>\n",
       "      <td>3.8</td>\n",
       "      <td>NaN</td>\n",
       "      <td>3.707504</td>\n",
       "    </tr>\n",
       "    <tr>\n",
       "      <th>1034</th>\n",
       "      <td>2023-09-01</td>\n",
       "      <td>307.481</td>\n",
       "      <td>NaN</td>\n",
       "      <td>NaN</td>\n",
       "      <td>18823.4</td>\n",
       "      <td>5.33</td>\n",
       "      <td>NaN</td>\n",
       "      <td>3.7</td>\n",
       "      <td>1292.56745</td>\n",
       "      <td>4984.71756</td>\n",
       "      <td>3.8</td>\n",
       "      <td>NaN</td>\n",
       "      <td>3.689903</td>\n",
       "    </tr>\n",
       "    <tr>\n",
       "      <th>1035</th>\n",
       "      <td>2023-10-01</td>\n",
       "      <td>307.619</td>\n",
       "      <td>NaN</td>\n",
       "      <td>NaN</td>\n",
       "      <td>18864.7</td>\n",
       "      <td>5.33</td>\n",
       "      <td>NaN</td>\n",
       "      <td>3.8</td>\n",
       "      <td>1295.44619</td>\n",
       "      <td>4989.85178</td>\n",
       "      <td>3.9</td>\n",
       "      <td>NaN</td>\n",
       "      <td>3.232356</td>\n",
       "    </tr>\n",
       "    <tr>\n",
       "      <th>1036</th>\n",
       "      <td>2023-11-01</td>\n",
       "      <td>NaN</td>\n",
       "      <td>NaN</td>\n",
       "      <td>NaN</td>\n",
       "      <td>NaN</td>\n",
       "      <td>5.33</td>\n",
       "      <td>NaN</td>\n",
       "      <td>NaN</td>\n",
       "      <td>NaN</td>\n",
       "      <td>NaN</td>\n",
       "      <td>NaN</td>\n",
       "      <td>NaN</td>\n",
       "      <td>NaN</td>\n",
       "    </tr>\n",
       "    <tr>\n",
       "      <th>1037</th>\n",
       "      <td>2024-01-01</td>\n",
       "      <td>NaN</td>\n",
       "      <td>NaN</td>\n",
       "      <td>5036380.0</td>\n",
       "      <td>NaN</td>\n",
       "      <td>NaN</td>\n",
       "      <td>NaN</td>\n",
       "      <td>NaN</td>\n",
       "      <td>NaN</td>\n",
       "      <td>NaN</td>\n",
       "      <td>NaN</td>\n",
       "      <td>NaN</td>\n",
       "      <td>NaN</td>\n",
       "    </tr>\n",
       "  </tbody>\n",
       "</table>\n",
       "</div>"
      ],
      "text/plain": [
       "            DATE      CPI  GDP  FEDREV_mm_nom      PCE  FEDFUNDS  GFDEBTN  \\\n",
       "1033  2023-08-01  306.269  NaN            NaN  18689.9      5.33      NaN   \n",
       "1034  2023-09-01  307.481  NaN            NaN  18823.4      5.33      NaN   \n",
       "1035  2023-10-01  307.619  NaN            NaN  18864.7      5.33      NaN   \n",
       "1036  2023-11-01      NaN  NaN            NaN      NaN      5.33      NaN   \n",
       "1037  2024-01-01      NaN  NaN      5036380.0      NaN       NaN      NaN   \n",
       "\n",
       "      PSAVERT     REVOLSL     TOTALSL  UNRATE   SGDP      INFL  \n",
       "1033      4.2  1288.12390  4972.49265     3.8    NaN  3.707504  \n",
       "1034      3.7  1292.56745  4984.71756     3.8    NaN  3.689903  \n",
       "1035      3.8  1295.44619  4989.85178     3.9    NaN  3.232356  \n",
       "1036      NaN         NaN         NaN     NaN    NaN       NaN  \n",
       "1037      NaN         NaN         NaN     NaN    NaN       NaN  "
      ]
     },
     "execution_count": 1,
     "metadata": {},
     "output_type": "execute_result"
    }
   ],
   "source": [
    "# Run Data Preperation Notebook\n",
    "%run -i 0_Data_Preparation.py\n",
    "\n",
    "# Import Stored Variables\n",
    "%store -r cpi_df gdp_df fedrev_df pce_df fedfunds_df feddebt_df psave_df revolcredit_df unemploy_df infl_df cc_outstanding_df merged_df dataset_dict\n",
    "\n",
    "print('\\nEconomic datasets:')\n",
    "[print(v) for k, v in dataset_dict.items()]\n",
    "\n",
    "print('\\nmerged_df:')\n",
    "merged_df.tail()"
   ]
  },
  {
   "cell_type": "markdown",
   "metadata": {
    "cell_id": "ec88a17934d54dc1b2b011d8d7d65ae0",
    "deepnote_cell_type": "markdown"
   },
   "source": [
    "<strong>Import Libraries</strong>"
   ]
  },
  {
   "cell_type": "code",
   "execution_count": 2,
   "metadata": {
    "cell_id": "f1432f765c214853857baf50be2a9207",
    "deepnote_cell_type": "code",
    "deepnote_to_be_reexecuted": false,
    "execution_millis": 2931,
    "execution_start": 1702519096033,
    "source_hash": null
   },
   "outputs": [
    {
     "name": "stdout",
     "output_type": "stream",
     "text": [
      "Requirement already satisfied: xgboost in c:\\users\\julio\\anaconda3\\lib\\site-packages (2.0.2)\n",
      "Requirement already satisfied: scipy in c:\\users\\julio\\anaconda3\\lib\\site-packages (from xgboost) (1.5.2)\n",
      "Requirement already satisfied: numpy in c:\\users\\julio\\anaconda3\\lib\\site-packages (from xgboost) (1.19.2)\n"
     ]
    }
   ],
   "source": [
    "# Import Libraries\n",
    "!pip install xgboost\n",
    "import pandas as pd\n",
    "import numpy as np\n",
    "import matplotlib.pyplot as plt\n",
    "from matplotlib.pyplot import figure\n",
    "import xgboost as xgb\n",
    "from sklearn.metrics import mean_squared_error\n",
    "from sklearn.model_selection import train_test_split, GridSearchCV\n",
    "import sklearn\n",
    "import datetime\n",
    "import dateutil.relativedelta\n",
    "from dateutil import relativedelta\n",
    "import math\n",
    "import matplotlib.dates as mdates\n",
    "from datetime import datetime as dt\n",
    "\n",
    "import warnings\n",
    "warnings.filterwarnings('ignore')"
   ]
  },
  {
   "cell_type": "markdown",
   "metadata": {
    "cell_id": "b7162ab43c1f48a6aa6366896ab1f14d",
    "deepnote_cell_type": "text-cell-h3",
    "formattedRanges": []
   },
   "source": [
    "### Create War Dataframe"
   ]
  },
  {
   "cell_type": "code",
   "execution_count": 3,
   "metadata": {
    "cell_id": "948e49a00b1740e8a93d920e0b494525",
    "deepnote_cell_type": "code",
    "deepnote_to_be_reexecuted": false,
    "execution_millis": 11,
    "execution_start": 1702519098968,
    "source_hash": null
   },
   "outputs": [],
   "source": [
    "def war_df(df, start_date, end_date, cutoff_date=None, lag_pre=0, lag_post=0):\n",
    "\n",
    "    # Calculate War Period & Dates\n",
    "    start_date = datetime.datetime.strptime(start_date, '%Y-%m-%d')\n",
    "    end_date = datetime.datetime.strptime(end_date, '%Y-%m-%d')\n",
    "\n",
    "    war_period = relativedelta.relativedelta(end_date, start_date)\n",
    "\n",
    "    lag_pre = start_date - dateutil.relativedelta.relativedelta(years=lag_pre)\n",
    "    lag_post = end_date + dateutil.relativedelta.relativedelta(years=lag_post)\n",
    "\n",
    "    # Create War Dataframe\n",
    "    df_all = df.loc[(df.DATE >= lag_pre.strftime('%Y-%m-%d')) & (df.DATE <= lag_post.strftime('%Y-%m-%d'))]\n",
    "\n",
    "    # War Status\n",
    "    df_all.loc[df.DATE < start_date.strftime('%Y-%m-%d'),'Status'] = 'pre'\n",
    "    df_all.loc[df.DATE > end_date.strftime('%Y-%m-%d'),'Status'] = 'post'\n",
    "    df_all.loc[(df.DATE >= start_date.strftime('%Y-%m-%d')) & (df.DATE <= end_date.strftime('%Y-%m-%d')),'Status'] = 'during'\n",
    "\n",
    "    # War Train Test\n",
    "    train_test_split = 0.25\n",
    "\n",
    "    if cutoff_date is not None:\n",
    "        cutoff_date = datetime.datetime.strptime(cutoff_date, '%Y-%m-%d')\n",
    "        df_all.loc[df.DATE < cutoff_date.strftime('%Y-%m-%d'),'Train_Test'] = 'train'\n",
    "        df_test_count = math.ceil(len(df_all[df_all.Train_Test=='train'])*train_test_split)\n",
    "        df_all = df_all.reset_index(drop=True)\n",
    "        df_all.loc[df_test_count*3:(df_test_count*4)-1,'Train_Test'] = 'test'\n",
    "    else:\n",
    "        df_all.loc[df.DATE < start_date.strftime('%Y-%m-%d'),'Train_Test'] = 'train'\n",
    "        df_test_count = math.ceil(len(df_all[df_all.Train_Test=='train'])*train_test_split)\n",
    "        df_all = df_all.reset_index(drop=True)\n",
    "        df_all.loc[df_test_count*3:(df_test_count*4)-1,'Train_Test'] = 'test'\n",
    "\n",
    "    return df_all"
   ]
  },
  {
   "cell_type": "code",
   "execution_count": 4,
   "metadata": {
    "cell_id": "b5d00e4773374393b58c08e440735920",
    "deepnote_cell_type": "code",
    "deepnote_to_be_reexecuted": false,
    "execution_millis": 9,
    "execution_start": 1702519098972,
    "source_hash": null
   },
   "outputs": [],
   "source": [
    "# Separate DataFrame for Model Training\n",
    "def war_cutoff_df(df):\n",
    "\n",
    "    cutoff_index = np.where(df.Train_Test=='cutoff')[0][0]\n",
    "    df_cutoff = df.iloc[:cutoff_index]\n",
    "\n",
    "    return df_cutoff"
   ]
  },
  {
   "cell_type": "markdown",
   "metadata": {
    "cell_id": "54360036b8a2487b8db201952dfdaf02",
    "deepnote_cell_type": "text-cell-h2",
    "formattedRanges": []
   },
   "source": [
    "## Vietnam War"
   ]
  },
  {
   "cell_type": "code",
   "execution_count": 5,
   "metadata": {
    "cell_id": "6e1eb3696cce4ef8879b231cd6591666",
    "deepnote_cell_type": "code",
    "deepnote_to_be_reexecuted": false,
    "execution_millis": 18,
    "execution_start": 1702519099019,
    "source_hash": null
   },
   "outputs": [
    {
     "data": {
      "text/html": [
       "<div>\n",
       "<style scoped>\n",
       "    .dataframe tbody tr th:only-of-type {\n",
       "        vertical-align: middle;\n",
       "    }\n",
       "\n",
       "    .dataframe tbody tr th {\n",
       "        vertical-align: top;\n",
       "    }\n",
       "\n",
       "    .dataframe thead th {\n",
       "        text-align: right;\n",
       "    }\n",
       "</style>\n",
       "<table border=\"1\" class=\"dataframe\">\n",
       "  <thead>\n",
       "    <tr style=\"text-align: right;\">\n",
       "      <th></th>\n",
       "      <th>DATE</th>\n",
       "      <th>GDP</th>\n",
       "      <th>Status</th>\n",
       "      <th>Train_Test</th>\n",
       "    </tr>\n",
       "  </thead>\n",
       "  <tbody>\n",
       "    <tr>\n",
       "      <th>0</th>\n",
       "      <td>1947-01-01</td>\n",
       "      <td>243.164</td>\n",
       "      <td>pre</td>\n",
       "      <td>train</td>\n",
       "    </tr>\n",
       "    <tr>\n",
       "      <th>1</th>\n",
       "      <td>1947-04-01</td>\n",
       "      <td>245.968</td>\n",
       "      <td>pre</td>\n",
       "      <td>train</td>\n",
       "    </tr>\n",
       "    <tr>\n",
       "      <th>2</th>\n",
       "      <td>1947-07-01</td>\n",
       "      <td>249.585</td>\n",
       "      <td>pre</td>\n",
       "      <td>train</td>\n",
       "    </tr>\n",
       "    <tr>\n",
       "      <th>3</th>\n",
       "      <td>1947-10-01</td>\n",
       "      <td>259.745</td>\n",
       "      <td>pre</td>\n",
       "      <td>train</td>\n",
       "    </tr>\n",
       "    <tr>\n",
       "      <th>4</th>\n",
       "      <td>1948-01-01</td>\n",
       "      <td>265.742</td>\n",
       "      <td>pre</td>\n",
       "      <td>train</td>\n",
       "    </tr>\n",
       "  </tbody>\n",
       "</table>\n",
       "</div>"
      ],
      "text/plain": [
       "         DATE      GDP Status Train_Test\n",
       "0  1947-01-01  243.164    pre      train\n",
       "1  1947-04-01  245.968    pre      train\n",
       "2  1947-07-01  249.585    pre      train\n",
       "3  1947-10-01  259.745    pre      train\n",
       "4  1948-01-01  265.742    pre      train"
      ]
     },
     "execution_count": 5,
     "metadata": {},
     "output_type": "execute_result"
    }
   ],
   "source": [
    "# Create War Dataframe\n",
    "vietnam_war_df = war_df(gdp_df, '1955-11-01', '1975-04-30', lag_pre=10, lag_post=10)\n",
    "vietnam_war_df.head()"
   ]
  },
  {
   "cell_type": "code",
   "execution_count": 6,
   "metadata": {
    "cell_id": "3d4ac6d6de7e4f07bbc7d739171c539b",
    "deepnote_cell_type": "code",
    "deepnote_to_be_reexecuted": false,
    "execution_millis": 15,
    "execution_start": 1702519099020,
    "source_hash": null
   },
   "outputs": [],
   "source": [
    "# Set Vietnam War dataframe index to the 'DATE' column\n",
    "# Use 'Train_Test' column to create separate dataframes for train data and test data\n",
    "\n",
    "vietnam_war_df = vietnam_war_df.set_index('DATE')\n",
    "vietnam_war_df.index = pd.to_datetime(vietnam_war_df.index)\n",
    "train = vietnam_war_df[vietnam_war_df['Train_Test'] == 'train']\n",
    "test = vietnam_war_df[vietnam_war_df['Train_Test'] == 'test']"
   ]
  },
  {
   "cell_type": "markdown",
   "metadata": {
    "cell_id": "4adf6bf025124673b22d6abb391d7834",
    "deepnote_cell_type": "text-cell-h3",
    "formattedRanges": []
   },
   "source": [
    "### Train & Test Split Visualization"
   ]
  },
  {
   "cell_type": "code",
   "execution_count": 7,
   "metadata": {
    "cell_id": "1be5472e0ac54ef09488bde7b7534b23",
    "deepnote_cell_type": "code",
    "deepnote_to_be_reexecuted": false,
    "execution_millis": 218,
    "execution_start": 1702519099021,
    "source_hash": null
   },
   "outputs": [
    {
     "data": {
      "image/png": "[encoded data removed]",
      "text/plain": [
       "<Figure size 720x432 with 1 Axes>"
      ]
     },
     "metadata": {
      "needs_background": "light"
     },
     "output_type": "display_data"
    }
   ],
   "source": [
    "# Plot Train, Test\n",
    "plt.figure(figsize=(10,6))\n",
    "plt.ylabel('GDP')\n",
    "plt.xlabel('Date')\n",
    "plt.plot(train.index, train.GDP, color='black', label='Train')\n",
    "plt.plot(test.index, test.GDP, color='red', label='Test')\n",
    "plt.xticks(rotation=45)\n",
    "plt.title('Train / Test Split for GDP ($ Billions)')\n",
    "plt.legend()\n",
    "plt.grid(True)\n",
    "plt.show()"
   ]
  },
  {
   "cell_type": "markdown",
   "metadata": {
    "cell_id": "8b97e74e26534c12aef4e3051a793a49",
    "deepnote_cell_type": "text-cell-h3",
    "formattedRanges": []
   },
   "source": [
    "### Create Features for XGBoost Model, Pre-War (Train / Test)"
   ]
  },
  {
   "cell_type": "code",
   "execution_count": 8,
   "metadata": {
    "cell_id": "768d0532084f42f3b5f5ed075248c2ec",
    "deepnote_cell_type": "code",
    "deepnote_to_be_reexecuted": false,
    "execution_millis": 26,
    "execution_start": 1702519099240,
    "source_hash": null
   },
   "outputs": [],
   "source": [
    "def create_features(df):\n",
    "    \"\"\"\n",
    "    Create time series features based on time series index.\n",
    "    \"\"\"\n",
    "    df = df.copy()\n",
    "    df['month'] = df.index.month\n",
    "    df['year'] = df.index.year\n",
    "    return df"
   ]
  },
  {
   "cell_type": "code",
   "execution_count": 9,
   "metadata": {
    "cell_id": "97bcc93806834a30b3130bd970b51f51",
    "deepnote_cell_type": "code",
    "deepnote_to_be_reexecuted": false,
    "execution_millis": 26,
    "execution_start": 1702519099241,
    "source_hash": null
   },
   "outputs": [],
   "source": [
    "train = create_features(train)\n",
    "test = create_features(test)\n",
    "\n",
    "FEATURES = ['month', 'year']\n",
    "TARGET = 'GDP'\n",
    "\n",
    "X_train = train[FEATURES]\n",
    "y_train = train[TARGET]\n",
    "\n",
    "X_test = test[FEATURES]\n",
    "y_test = test[TARGET]"
   ]
  },
  {
   "cell_type": "markdown",
   "metadata": {
    "cell_id": "c47a0bbfdba24894b38a3ad63e46949e",
    "deepnote_cell_type": "text-cell-h3",
    "formattedRanges": []
   },
   "source": [
    "### Hyperparameter Tuning with GridSearchCV"
   ]
  },
  {
   "cell_type": "code",
   "execution_count": 10,
   "metadata": {
    "cell_id": "5db4d5656b814f67866718fbe0df4105",
    "deepnote_cell_type": "code",
    "deepnote_to_be_reexecuted": false,
    "execution_millis": 145752,
    "execution_start": 1702519099262,
    "source_hash": null
   },
   "outputs": [
    {
     "name": "stdout",
     "output_type": "stream",
     "text": [
      "Best params: {'gamma': 0.02, 'learning_rate': 0.05, 'max_depth': 2, 'n_estimators': 800, 'random_state': 42, 'reg_lambda': 0.001}\n",
      "Best validation score = -17.24880584471257\n"
     ]
    }
   ],
   "source": [
    "# This process can take a long time to run. To speed up the GridSearchCV, you can change the number of values\n",
    "# that each parameter is testing.\n",
    "\n",
    "parameters = {\n",
    "    'n_estimators': [400, 600,800,1000],\n",
    "    'learning_rate': [ 0.01, 0.05, 0.1, 0.5, 1.0],\n",
    "    'max_depth': [2, 3, 4],\n",
    "    'gamma': [0, 0.01, 0.02],\n",
    "    'reg_lambda': [0,.001],\n",
    "    'random_state': [42]\n",
    "}\n",
    "\n",
    "\n",
    "model = xgb.XGBRegressor(default = 'gbtree',objective='reg:linear')\n",
    "reg = GridSearchCV(model, parameters, scoring = 'neg_root_mean_squared_error')\n",
    "\n",
    "reg.fit(X_train, y_train)\n",
    "\n",
    "print(f'Best params: {reg.best_params_}')\n",
    "print(f'Best validation score = {reg.best_score_}')"
   ]
  },
  {
   "cell_type": "code",
   "execution_count": 11,
   "metadata": {
    "cell_id": "20f766ad1f22472388578ebc85714c3e",
    "deepnote_cell_type": "code",
    "deepnote_to_be_reexecuted": false,
    "execution_millis": 80,
    "execution_start": 1702519245009,
    "source_hash": null
   },
   "outputs": [
    {
     "data": {
      "text/plain": [
       "XGBRegressor(base_score=None, booster=None, callbacks=None,\n",
       "             colsample_bylevel=None, colsample_bynode=None,\n",
       "             colsample_bytree=None, device=None, early_stopping_rounds=None,\n",
       "             enable_categorical=False, eval_metric=None, feature_types=None,\n",
       "             gamma=0.02, grow_policy=None, importance_type=None,\n",
       "             interaction_constraints=None, learning_rate=0.05, max_bin=None,\n",
       "             max_cat_threshold=None, max_cat_to_onehot=None,\n",
       "             max_delta_step=None, max_depth=2, max_leaves=None,\n",
       "             min_child_weight=None, missing=nan, monotone_constraints=None,\n",
       "             multi_strategy=None, n_estimators=800, n_jobs=None,\n",
       "             num_parallel_tree=None, objective='reg:linear', ...)"
      ]
     },
     "execution_count": 11,
     "metadata": {},
     "output_type": "execute_result"
    }
   ],
   "source": [
    "model = xgb.XGBRegressor(**reg.best_params_, objective='reg:linear')\n",
    "model.fit(X_train, y_train,verbose=False)"
   ]
  },
  {
   "cell_type": "markdown",
   "metadata": {
    "cell_id": "f9325bde991743d99663ba670c99c8ce",
    "deepnote_cell_type": "text-cell-h3",
    "formattedRanges": []
   },
   "source": [
    "### XGBoost Model Scoring"
   ]
  },
  {
   "cell_type": "code",
   "execution_count": 12,
   "metadata": {
    "cell_id": "da836ea67da74fdfa86c42169b6e63bc",
    "deepnote_cell_type": "code",
    "deepnote_to_be_reexecuted": false,
    "execution_millis": 22,
    "execution_start": 1702519245097,
    "source_hash": null
   },
   "outputs": [
    {
     "name": "stdout",
     "output_type": "stream",
     "text": [
      "RMSE Score on Test set: 22.64\n"
     ]
    }
   ],
   "source": [
    "test['prediction'] = model.predict(X_test)\n",
    "score = np.sqrt(mean_squared_error(test['GDP'], test['prediction']))\n",
    "print(f'RMSE Score on Test set: {score:0.2f}')"
   ]
  },
  {
   "cell_type": "markdown",
   "metadata": {
    "cell_id": "9f3bc0c672604201b1d3869750fdc507",
    "deepnote_cell_type": "text-cell-h3",
    "formattedRanges": []
   },
   "source": [
    "### *Optional* Micro Adjusting Hyperparameters"
   ]
  },
  {
   "cell_type": "code",
   "execution_count": 13,
   "metadata": {
    "cell_id": "158f894ef3e1425699a8e2364bf1d66d",
    "deepnote_cell_type": "code",
    "deepnote_to_be_reexecuted": false,
    "execution_millis": 211,
    "execution_start": 1702519245104,
    "source_hash": null
   },
   "outputs": [
    {
     "name": "stdout",
     "output_type": "stream",
     "text": [
      "[0]\tvalidation_0-rmse:299.25169\tvalidation_1-rmse:386.06094\n",
      "[100]\tvalidation_0-rmse:4.31837\tvalidation_1-rmse:24.73965\n",
      "[200]\tvalidation_0-rmse:3.22502\tvalidation_1-rmse:22.55899\n",
      "[300]\tvalidation_0-rmse:2.99402\tvalidation_1-rmse:22.42727\n",
      "[400]\tvalidation_0-rmse:2.63553\tvalidation_1-rmse:22.34442\n",
      "[500]\tvalidation_0-rmse:2.33803\tvalidation_1-rmse:22.32952\n",
      "[534]\tvalidation_0-rmse:2.31586\tvalidation_1-rmse:22.34942\n"
     ]
    },
    {
     "data": {
      "text/plain": [
       "XGBRegressor(base_score=0.5, booster='gbtree', callbacks=None,\n",
       "             colsample_bylevel=None, colsample_bynode=None,\n",
       "             colsample_bytree=None, device=None, early_stopping_rounds=50,\n",
       "             enable_categorical=False, eval_metric=None, feature_types=None,\n",
       "             gamma=0.03, grow_policy=None, importance_type=None,\n",
       "             interaction_constraints=None, learning_rate=0.05, max_bin=None,\n",
       "             max_cat_threshold=None, max_cat_to_onehot=None,\n",
       "             max_delta_step=None, max_depth=2, max_leaves=None,\n",
       "             min_child_weight=3, missing=nan, monotone_constraints=None,\n",
       "             multi_strategy=None, n_estimators=1000, n_jobs=None,\n",
       "             num_parallel_tree=None, objective='reg:linear', ...)"
      ]
     },
     "execution_count": 13,
     "metadata": {},
     "output_type": "execute_result"
    }
   ],
   "source": [
    "# Below can be used to further refine your hyperparameters in a faster method using the output from your\n",
    "# GridSearchCV as a baseline.\n",
    "\n",
    "model = xgb.XGBRegressor(base_score=0.5, booster='gbtree',    \n",
    "                       n_estimators=1000,\n",
    "                       early_stopping_rounds=50,\n",
    "                       objective='reg:linear',\n",
    "                       max_depth=2,\n",
    "                       learning_rate=0.05,\n",
    "                       gamma=.03,\n",
    "                       reg_lambda = .001,\n",
    "                       reg_alpha = 0,\n",
    "                       min_child_weight = 3)\n",
    "model.fit(X_train, y_train,\n",
    "        eval_set=[(X_train, y_train), (X_test, y_test)],\n",
    "        verbose=100)"
   ]
  },
  {
   "cell_type": "markdown",
   "metadata": {
    "cell_id": "258e0a8f6f934f8a927b4734665cb03c",
    "deepnote_cell_type": "text-cell-h3",
    "formattedRanges": []
   },
   "source": [
    "### XGBoost Feature Importance"
   ]
  },
  {
   "cell_type": "code",
   "execution_count": 14,
   "metadata": {
    "cell_id": "a13beb7117c542dab7264f593cb06b09",
    "deepnote_cell_type": "code",
    "deepnote_to_be_reexecuted": false,
    "execution_millis": 127,
    "execution_start": 1702519245318,
    "source_hash": null
   },
   "outputs": [
    {
     "data": {
      "image/png": "[encoded data removed]",
      "text/plain": [
       "<Figure size 432x288 with 1 Axes>"
      ]
     },
     "metadata": {
      "needs_background": "light"
     },
     "output_type": "display_data"
    }
   ],
   "source": [
    "fi = pd.DataFrame(data=model.feature_importances_,\n",
    "             index=model.feature_names_in_,\n",
    "             columns=['importance'])\n",
    "fi.sort_values('importance').plot(kind='barh', title='Feature Importance')\n",
    "plt.show()"
   ]
  },
  {
   "cell_type": "markdown",
   "metadata": {
    "cell_id": "1ad2587188f94bc4aba036e415402fbd",
    "deepnote_cell_type": "text-cell-h3",
    "formattedRanges": []
   },
   "source": [
    "### Train, Test, & Predictions based on XGBoost Output"
   ]
  },
  {
   "cell_type": "code",
   "execution_count": 15,
   "metadata": {
    "cell_id": "199eabd41f8b437c980a871e15a68afd",
    "deepnote_cell_type": "code",
    "deepnote_to_be_reexecuted": false,
    "execution_millis": 172,
    "execution_start": 1702519245468,
    "source_hash": null
   },
   "outputs": [
    {
     "data": {
      "image/png": "[encoded data removed]",
      "text/plain": [
       "<Figure size 720x432 with 1 Axes>"
      ]
     },
     "metadata": {
      "needs_background": "light"
     },
     "output_type": "display_data"
    },
    {
     "name": "stdout",
     "output_type": "stream",
     "text": [
      "                GDP Status Train_Test  month  year  prediction\n",
      "DATE                                                          \n",
      "1953-10-01  385.970    pre       test     10  1953  401.075928\n",
      "1954-01-01  385.345    pre       test      1  1954  388.034882\n",
      "1954-04-01  386.121    pre       test      4  1954  391.316803\n",
      "1954-07-01  390.996    pre       test      7  1954  391.362000\n",
      "1954-10-01  399.734    pre       test     10  1954  401.075928\n",
      "1955-01-01  413.073    pre       test      1  1955  388.034882\n",
      "1955-04-01  421.532    pre       test      4  1955  391.316803\n",
      "1955-07-01  430.221    pre       test      7  1955  391.362000\n",
      "1955-10-01  437.092    pre       test     10  1955  401.075928 \n",
      "\n",
      "[403.33878 386.98834 390.09256 393.69687 403.33878 386.98834 390.09256\n",
      " 393.69687 403.33878]\n"
     ]
    }
   ],
   "source": [
    "plt.figure(figsize=(10,6))\n",
    "plt.ylabel('GDP')\n",
    "plt.xlabel('Date')\n",
    "plt.plot(train.index, train.GDP, color='black', label='Train')\n",
    "plt.plot(test.index, test.GDP, color='red', label='Test')\n",
    "plt.plot(test.index, model.predict(X_test), color='orange', label = 'XGBOOST Prediction')\n",
    "plt.legend()\n",
    "plt.xticks(rotation=45)\n",
    "plt.title('Train, Test, & Predictions for GDP ($ Billions)')\n",
    "plt.legend()\n",
    "plt.grid(True)\n",
    "plt.show()\n",
    "\n",
    "print(test,'\\n')\n",
    "print(model.predict(X_test))"
   ]
  },
  {
   "cell_type": "markdown",
   "metadata": {
    "cell_id": "1498d0c7d6d944deb3a471010a0438e6",
    "deepnote_cell_type": "text-cell-h3",
    "formattedRanges": []
   },
   "source": [
    "### Visualizing GDP during Vietnam War + Post War"
   ]
  },
  {
   "cell_type": "code",
   "execution_count": 16,
   "metadata": {
    "cell_id": "7ad4dca25c3c43ee9f853bd4a0607d59",
    "deepnote_cell_type": "code",
    "deepnote_to_be_reexecuted": false,
    "execution_millis": 165,
    "execution_start": 1702519245650,
    "source_hash": null
   },
   "outputs": [
    {
     "data": {
      "image/png": "[encoded data removed]",
      "text/plain": [
       "<Figure size 720x432 with 1 Axes>"
      ]
     },
     "metadata": {
      "needs_background": "light"
     },
     "output_type": "display_data"
    }
   ],
   "source": [
    "# Plot Vietnam War\n",
    "plt.figure(figsize=(10,6))\n",
    "plt.ylabel('GDP')\n",
    "plt.xlabel('Date')\n",
    "plt.plot(vietnam_war_df[vietnam_war_df['Status'] != 'pre'].index,\n",
    "vietnam_war_df[vietnam_war_df['Status'] != 'pre'].GDP, color='black', label='GDP')\n",
    "plt.xticks(rotation=45)\n",
    "plt.title('GDP ($ Billions) During The Vietnam War')\n",
    "plt.legend()\n",
    "plt.grid(True)\n",
    "plt.show()"
   ]
  },
  {
   "cell_type": "markdown",
   "metadata": {
    "cell_id": "24b4cdb055e345cda292015a6772b6ad",
    "deepnote_cell_type": "text-cell-h3",
    "formattedRanges": []
   },
   "source": [
    "### Getting Features for Vietnam War + Post War"
   ]
  },
  {
   "cell_type": "code",
   "execution_count": 17,
   "metadata": {
    "cell_id": "51500d412f4d4800867770828ab6f9ed",
    "deepnote_cell_type": "code",
    "deepnote_to_be_reexecuted": false,
    "execution_millis": 26,
    "execution_start": 1702519245817,
    "source_hash": null
   },
   "outputs": [],
   "source": [
    "vw_df = create_features(vietnam_war_df[vietnam_war_df['Status'] != 'pre'])\n",
    "X = vw_df[FEATURES]\n",
    "y= vw_df[TARGET]\n",
    "vw_df['prediction'] = model.predict(X)"
   ]
  },
  {
   "cell_type": "markdown",
   "metadata": {
    "cell_id": "61dbe7b8fe20440d975bd53f8ebfda60",
    "deepnote_cell_type": "text-cell-h3",
    "formattedRanges": []
   },
   "source": [
    "### Visualizing GDP Actuals & Predictions for Vietnam War + Post War"
   ]
  },
  {
   "cell_type": "code",
   "execution_count": 18,
   "metadata": {
    "cell_id": "bada2ba8e59d4cce877717558135b5b5",
    "deepnote_cell_type": "code",
    "deepnote_to_be_reexecuted": false,
    "execution_millis": 329,
    "execution_start": 1702519245869,
    "source_hash": null
   },
   "outputs": [
    {
     "data": {
      "image/png": "[encoded data removed]",
      "text/plain": [
       "<Figure size 720x432 with 1 Axes>"
      ]
     },
     "metadata": {
      "needs_background": "light"
     },
     "output_type": "display_data"
    },
    {
     "name": "stdout",
     "output_type": "stream",
     "text": [
      "                 GDP  Status Train_Test  month  year  prediction\n",
      "DATE                                                            \n",
      "1956-01-01   439.746  during        NaN      1  1956  386.988342\n",
      "1956-04-01   446.010  during        NaN      4  1956  390.092560\n",
      "1956-07-01   451.191  during        NaN      7  1956  393.696869\n",
      "1956-10-01   460.463  during        NaN     10  1956  403.338776\n",
      "1957-01-01   469.779  during        NaN      1  1957  386.988342\n",
      "...              ...     ...        ...    ...   ...         ...\n",
      "1984-04-01  4009.601    post        NaN      4  1984  390.092560\n",
      "1984-07-01  4084.250    post        NaN      7  1984  393.696869\n",
      "1984-10-01  4148.551    post        NaN     10  1984  403.338776\n",
      "1985-01-01  4230.168    post        NaN      1  1985  386.988342\n",
      "1985-04-01  4294.887    post        NaN      4  1985  390.092560\n",
      "\n",
      "[118 rows x 6 columns] \n",
      "\n",
      "[403.33878 386.98834 390.09256 393.69687 403.33878 386.98834 390.09256\n",
      " 393.69687 403.33878]\n"
     ]
    }
   ],
   "source": [
    "#xdates = [dt.strptime(dstr,'%Y-%m-%d') for dstr in vietnam_war_predictions_df.DATE]\n",
    "\n",
    "plt.figure(figsize=(10,6))\n",
    "plt.ylabel('GDP')\n",
    "plt.xlabel('Date')\n",
    "plt.plot(vw_df.index, vw_df.GDP, color='black', label='Train')\n",
    "plt.plot(vw_df.index, model.predict(X), color='orange', label = 'XGBOOST Prediction')\n",
    "plt.gca().xaxis.set_major_locator(mdates.YearLocator((1)))\n",
    "plt.gca().xaxis.set_major_formatter(mdates.DateFormatter(\"%Y-%m-%d\"))\n",
    "plt.axvspan('1955-11-01', '1975-04-30', color='k', alpha=0.07)\n",
    "plt.text(vw_df.index[0],3500,'War Begins')\n",
    "plt.text(vw_df.index[78],3500,'War Ends')\n",
    "plt.legend()\n",
    "plt.xticks(rotation=45)\n",
    "plt.title('Vietnam War Actuals & Predictions for GDP ($ Billions)')\n",
    "plt.legend()\n",
    "plt.grid(True)\n",
    "plt.show()\n",
    "\n",
    "print(vw_df,'\\n')\n",
    "print(model.predict(X_test))"
   ]
  },
  {
   "cell_type": "markdown",
   "metadata": {
    "cell_id": "95f1277b9aee423f90d182eff15a6beb",
    "deepnote_cell_type": "text-cell-h3",
    "formattedRanges": []
   },
   "source": [
    "### XGBoost Model Score on Vietnam War + Post War"
   ]
  },
  {
   "cell_type": "code",
   "execution_count": 19,
   "metadata": {
    "cell_id": "865a0b1efff3407299cccd6c9a1c19b8",
    "deepnote_cell_type": "code",
    "deepnote_to_be_reexecuted": false,
    "execution_millis": 117,
    "execution_start": 1702519246217,
    "source_hash": null
   },
   "outputs": [
    {
     "name": "stdout",
     "output_type": "stream",
     "text": [
      "RMSE Score on Test set: 1597.37\n"
     ]
    }
   ],
   "source": [
    "score = np.sqrt(mean_squared_error(vw_df['GDP'], vw_df['prediction']))\n",
    "print(f'RMSE Score on Test set: {score:0.2f}')"
   ]
  },
  {
   "cell_type": "markdown",
   "metadata": {
    "cell_id": "baac4082d2ae4926b87f0c594ff4ea90",
    "deepnote_cell_type": "text-cell-h2",
    "formattedRanges": []
   },
   "source": [
    "## Afghanistan War"
   ]
  },
  {
   "cell_type": "code",
   "execution_count": 20,
   "metadata": {
    "cell_id": "d9bd7d1869194fe1a4b3a72ed44ee272",
    "deepnote_cell_type": "code",
    "deepnote_to_be_reexecuted": false,
    "execution_millis": 116,
    "execution_start": 1702519246218,
    "source_hash": null
   },
   "outputs": [
    {
     "data": {
      "text/html": [
       "<div>\n",
       "<style scoped>\n",
       "    .dataframe tbody tr th:only-of-type {\n",
       "        vertical-align: middle;\n",
       "    }\n",
       "\n",
       "    .dataframe tbody tr th {\n",
       "        vertical-align: top;\n",
       "    }\n",
       "\n",
       "    .dataframe thead th {\n",
       "        text-align: right;\n",
       "    }\n",
       "</style>\n",
       "<table border=\"1\" class=\"dataframe\">\n",
       "  <thead>\n",
       "    <tr style=\"text-align: right;\">\n",
       "      <th></th>\n",
       "      <th>DATE</th>\n",
       "      <th>GDP</th>\n",
       "      <th>Status</th>\n",
       "      <th>Train_Test</th>\n",
       "    </tr>\n",
       "  </thead>\n",
       "  <tbody>\n",
       "    <tr>\n",
       "      <th>0</th>\n",
       "      <td>1991-10-01</td>\n",
       "      <td>6264.540</td>\n",
       "      <td>pre</td>\n",
       "      <td>train</td>\n",
       "    </tr>\n",
       "    <tr>\n",
       "      <th>1</th>\n",
       "      <td>1992-01-01</td>\n",
       "      <td>6363.102</td>\n",
       "      <td>pre</td>\n",
       "      <td>train</td>\n",
       "    </tr>\n",
       "    <tr>\n",
       "      <th>2</th>\n",
       "      <td>1992-04-01</td>\n",
       "      <td>6470.763</td>\n",
       "      <td>pre</td>\n",
       "      <td>train</td>\n",
       "    </tr>\n",
       "    <tr>\n",
       "      <th>3</th>\n",
       "      <td>1992-07-01</td>\n",
       "      <td>6566.641</td>\n",
       "      <td>pre</td>\n",
       "      <td>train</td>\n",
       "    </tr>\n",
       "    <tr>\n",
       "      <th>4</th>\n",
       "      <td>1992-10-01</td>\n",
       "      <td>6680.803</td>\n",
       "      <td>pre</td>\n",
       "      <td>train</td>\n",
       "    </tr>\n",
       "    <tr>\n",
       "      <th>...</th>\n",
       "      <td>...</td>\n",
       "      <td>...</td>\n",
       "      <td>...</td>\n",
       "      <td>...</td>\n",
       "    </tr>\n",
       "    <tr>\n",
       "      <th>123</th>\n",
       "      <td>2022-07-01</td>\n",
       "      <td>25994.639</td>\n",
       "      <td>post</td>\n",
       "      <td>NaN</td>\n",
       "    </tr>\n",
       "    <tr>\n",
       "      <th>124</th>\n",
       "      <td>2022-10-01</td>\n",
       "      <td>26408.405</td>\n",
       "      <td>post</td>\n",
       "      <td>NaN</td>\n",
       "    </tr>\n",
       "    <tr>\n",
       "      <th>125</th>\n",
       "      <td>2023-01-01</td>\n",
       "      <td>26813.601</td>\n",
       "      <td>post</td>\n",
       "      <td>NaN</td>\n",
       "    </tr>\n",
       "    <tr>\n",
       "      <th>126</th>\n",
       "      <td>2023-04-01</td>\n",
       "      <td>27063.012</td>\n",
       "      <td>post</td>\n",
       "      <td>NaN</td>\n",
       "    </tr>\n",
       "    <tr>\n",
       "      <th>127</th>\n",
       "      <td>2023-07-01</td>\n",
       "      <td>27644.463</td>\n",
       "      <td>post</td>\n",
       "      <td>NaN</td>\n",
       "    </tr>\n",
       "  </tbody>\n",
       "</table>\n",
       "<p>128 rows × 4 columns</p>\n",
       "</div>"
      ],
      "text/plain": [
       "           DATE        GDP Status Train_Test\n",
       "0    1991-10-01   6264.540    pre      train\n",
       "1    1992-01-01   6363.102    pre      train\n",
       "2    1992-04-01   6470.763    pre      train\n",
       "3    1992-07-01   6566.641    pre      train\n",
       "4    1992-10-01   6680.803    pre      train\n",
       "..          ...        ...    ...        ...\n",
       "123  2022-07-01  25994.639   post        NaN\n",
       "124  2022-10-01  26408.405   post        NaN\n",
       "125  2023-01-01  26813.601   post        NaN\n",
       "126  2023-04-01  27063.012   post        NaN\n",
       "127  2023-07-01  27644.463   post        NaN\n",
       "\n",
       "[128 rows x 4 columns]"
      ]
     },
     "execution_count": 20,
     "metadata": {},
     "output_type": "execute_result"
    }
   ],
   "source": [
    "afghanistan_war_df = war_df(gdp_df, '2001-09-18', '2021-08-30', lag_pre=10, lag_post=10)\n",
    "afghanistan_war_df"
   ]
  },
  {
   "cell_type": "code",
   "execution_count": 21,
   "metadata": {
    "cell_id": "d1f8c41511674c33a11a71935f4916e0",
    "deepnote_cell_type": "code",
    "deepnote_to_be_reexecuted": false,
    "execution_millis": 133,
    "execution_start": 1702519246222,
    "source_hash": null
   },
   "outputs": [],
   "source": [
    "# Set Afghanistan War dataframe index to the 'DATE' column\n",
    "# Use 'Train_Test' column to create separate dataframes for train data and test data\n",
    "\n",
    "afghanistan_war_df = afghanistan_war_df.set_index('DATE')\n",
    "afghanistan_war_df.index = pd.to_datetime(afghanistan_war_df.index)\n",
    "train = afghanistan_war_df[afghanistan_war_df['Train_Test'] == 'train']\n",
    "test = afghanistan_war_df[afghanistan_war_df['Train_Test'] == 'test']"
   ]
  },
  {
   "cell_type": "markdown",
   "metadata": {
    "cell_id": "a360cbfae7d14ec3941a48cc85ec94cc",
    "deepnote_cell_type": "text-cell-h3",
    "formattedRanges": []
   },
   "source": [
    "### Train & Test Split Visualization"
   ]
  },
  {
   "cell_type": "code",
   "execution_count": 22,
   "metadata": {
    "cell_id": "56f031791b5b48428d3b80b4f45867e6",
    "deepnote_cell_type": "code",
    "deepnote_to_be_reexecuted": false,
    "execution_millis": 423,
    "execution_start": 1702519246240,
    "source_hash": null
   },
   "outputs": [
    {
     "data": {
      "image/png": "[encoded data removed]",
      "text/plain": [
       "<Figure size 720x432 with 1 Axes>"
      ]
     },
     "metadata": {
      "needs_background": "light"
     },
     "output_type": "display_data"
    }
   ],
   "source": [
    "# Plot Train, Test\n",
    "plt.figure(figsize=(10,6))\n",
    "plt.ylabel('GDP')\n",
    "plt.xlabel('Date')\n",
    "plt.plot(train.index, train.GDP, color='black', label='Train')\n",
    "plt.plot(test.index, test.GDP, color='red', label='Test')\n",
    "plt.xticks(rotation=45)\n",
    "plt.title('Train / Test Split for GDP ($ Billions)')\n",
    "plt.legend()\n",
    "plt.grid(True)\n",
    "plt.show()"
   ]
  },
  {
   "cell_type": "markdown",
   "metadata": {
    "cell_id": "d015ce12bb0e425084313ec8aca9c050",
    "deepnote_cell_type": "text-cell-h3",
    "formattedRanges": []
   },
   "source": [
    "### Create Features for XGBoost Model, Pre-War (Train / Test)"
   ]
  },
  {
   "cell_type": "code",
   "execution_count": 23,
   "metadata": {
    "cell_id": "ef04700bcd1448acbec5e7343ad93cc4",
    "deepnote_cell_type": "code",
    "deepnote_to_be_reexecuted": false,
    "execution_millis": 700,
    "execution_start": 1702519246428,
    "source_hash": null
   },
   "outputs": [],
   "source": [
    "train = create_features(train)\n",
    "test = create_features(test)\n",
    "\n",
    "FEATURES = ['month', 'year']\n",
    "TARGET = 'GDP'\n",
    "\n",
    "X_train = train[FEATURES]\n",
    "y_train = train[TARGET]\n",
    "\n",
    "X_test = test[FEATURES]\n",
    "y_test = test[TARGET]"
   ]
  },
  {
   "cell_type": "markdown",
   "metadata": {
    "cell_id": "426cf7a8a9964d198a59f9d80bf7aca7",
    "deepnote_cell_type": "text-cell-h3",
    "formattedRanges": []
   },
   "source": [
    "### Hyperparameter Tuning with GridSearchCV"
   ]
  },
  {
   "cell_type": "code",
   "execution_count": 24,
   "metadata": {
    "cell_id": "7718f4dd2402442b8acb91008a266b4d",
    "deepnote_cell_type": "code",
    "deepnote_to_be_reexecuted": false,
    "execution_millis": 160892,
    "execution_start": 1702519246445,
    "source_hash": null
   },
   "outputs": [
    {
     "name": "stdout",
     "output_type": "stream",
     "text": [
      "Best params: {'gamma': 0.01, 'learning_rate': 0.1, 'max_depth': 2, 'n_estimators': 1000, 'random_state': 42, 'reg_lambda': 0.001}\n",
      "Best validation score = -294.78690994642795\n"
     ]
    }
   ],
   "source": [
    "# This process can take a long time to run. To speed up the GridSearchCV, you can change the number of values\n",
    "# that each parameter is testing.\n",
    "\n",
    "parameters = {\n",
    "    'n_estimators': [400, 600,800,1000],\n",
    "    'learning_rate': [ 0.01, 0.05, 0.1, 0.5, 1.0],\n",
    "    'max_depth': [2, 3, 4],\n",
    "    'gamma': [0, 0.01, 0.02],\n",
    "    'reg_lambda': [0,.001],\n",
    "    'random_state': [42]\n",
    "}\n",
    "\n",
    "\n",
    "model = xgb.XGBRegressor(default = 'gbtree',objective='reg:linear')\n",
    "reg = GridSearchCV(model, parameters, scoring = 'neg_root_mean_squared_error')\n",
    "\n",
    "reg.fit(X_train, y_train)\n",
    "\n",
    "print(f'Best params: {reg.best_params_}')\n",
    "print(f'Best validation score = {reg.best_score_}')"
   ]
  },
  {
   "cell_type": "code",
   "execution_count": 25,
   "metadata": {
    "cell_id": "d59fc9099cf14cff9c5fa5730765ccef",
    "deepnote_cell_type": "code",
    "deepnote_to_be_reexecuted": false,
    "execution_millis": 104,
    "execution_start": 1702519407333,
    "source_hash": null
   },
   "outputs": [
    {
     "data": {
      "text/plain": [
       "XGBRegressor(base_score=None, booster=None, callbacks=None,\n",
       "             colsample_bylevel=None, colsample_bynode=None,\n",
       "             colsample_bytree=None, device=None, early_stopping_rounds=None,\n",
       "             enable_categorical=False, eval_metric=None, feature_types=None,\n",
       "             gamma=0.01, grow_policy=None, importance_type=None,\n",
       "             interaction_constraints=None, learning_rate=0.1, max_bin=None,\n",
       "             max_cat_threshold=None, max_cat_to_onehot=None,\n",
       "             max_delta_step=None, max_depth=2, max_leaves=None,\n",
       "             min_child_weight=None, missing=nan, monotone_constraints=None,\n",
       "             multi_strategy=None, n_estimators=1000, n_jobs=None,\n",
       "             num_parallel_tree=None, objective='reg:linear', ...)"
      ]
     },
     "execution_count": 25,
     "metadata": {},
     "output_type": "execute_result"
    }
   ],
   "source": [
    "model = xgb.XGBRegressor(**reg.best_params_, objective='reg:linear')\n",
    "model.fit(X_train, y_train,verbose=False)"
   ]
  },
  {
   "cell_type": "markdown",
   "metadata": {
    "cell_id": "6db6167c826b4b14ab1851bc4f55b782",
    "deepnote_cell_type": "text-cell-h3",
    "formattedRanges": []
   },
   "source": [
    "### XGBoost Model Scoring"
   ]
  },
  {
   "cell_type": "code",
   "execution_count": 26,
   "metadata": {
    "cell_id": "75e0c67ce5744f9c8c4dfbe6843c94bf",
    "deepnote_cell_type": "code",
    "deepnote_to_be_reexecuted": false,
    "execution_millis": 12,
    "execution_start": 1702519407435,
    "source_hash": null
   },
   "outputs": [
    {
     "name": "stdout",
     "output_type": "stream",
     "text": [
      "RMSE Score on Test set: 747.74\n"
     ]
    }
   ],
   "source": [
    "test['prediction'] = model.predict(X_test)\n",
    "score = np.sqrt(mean_squared_error(test['GDP'], test['prediction']))\n",
    "print(f'RMSE Score on Test set: {score:0.2f}')"
   ]
  },
  {
   "cell_type": "markdown",
   "metadata": {
    "cell_id": "df9bfc6f9b6741bf883c66687966a0d9",
    "deepnote_cell_type": "text-cell-h3",
    "formattedRanges": []
   },
   "source": [
    "### *Optional* Micro Adjusting Hyperparameters"
   ]
  },
  {
   "cell_type": "code",
   "execution_count": 27,
   "metadata": {
    "cell_id": "3437c39cc1534c5897b9180b32c02239",
    "deepnote_cell_type": "code",
    "deepnote_to_be_reexecuted": false,
    "execution_millis": 87,
    "execution_start": 1702519407439,
    "source_hash": null
   },
   "outputs": [
    {
     "name": "stdout",
     "output_type": "stream",
     "text": [
      "[0]\tvalidation_0-rmse:3895.89904\tvalidation_1-rmse:5624.38221\n",
      "[100]\tvalidation_0-rmse:10.05481\tvalidation_1-rmse:723.97614\n",
      "[200]\tvalidation_0-rmse:7.30101\tvalidation_1-rmse:721.00370\n",
      "[282]\tvalidation_0-rmse:4.98515\tvalidation_1-rmse:719.56680\n"
     ]
    },
    {
     "data": {
      "text/plain": [
       "XGBRegressor(base_score=0.5, booster='gbtree', callbacks=None,\n",
       "             colsample_bylevel=None, colsample_bynode=None,\n",
       "             colsample_bytree=None, device=None, early_stopping_rounds=50,\n",
       "             enable_categorical=False, eval_metric=None, feature_types=None,\n",
       "             gamma=0.001, grow_policy=None, importance_type=None,\n",
       "             interaction_constraints=None, learning_rate=0.5, max_bin=None,\n",
       "             max_cat_threshold=None, max_cat_to_onehot=None,\n",
       "             max_delta_step=None, max_depth=2, max_leaves=None,\n",
       "             min_child_weight=None, missing=nan, monotone_constraints=None,\n",
       "             multi_strategy=None, n_estimators=1000, n_jobs=None,\n",
       "             num_parallel_tree=None, objective='reg:linear', ...)"
      ]
     },
     "execution_count": 27,
     "metadata": {},
     "output_type": "execute_result"
    }
   ],
   "source": [
    "# Below can be used to further refine your hyperparameters in a faster method using the output from your\n",
    "# GridSearchCV as a baseline.\n",
    "\n",
    "model = xgb.XGBRegressor(base_score=0.5, booster='gbtree',    \n",
    "                       n_estimators=1000,\n",
    "                       early_stopping_rounds=50,\n",
    "                       objective='reg:linear',\n",
    "                       max_depth=2,\n",
    "                       learning_rate=.5,\n",
    "                       gamma= 0.001,\n",
    "                       reg_lambda = 0.001,\n",
    "                       reg_alpha = 0.001)\n",
    "model.fit(X_train, y_train,\n",
    "        eval_set=[(X_train, y_train), (X_test, y_test)],\n",
    "        verbose=100)"
   ]
  },
  {
   "cell_type": "markdown",
   "metadata": {
    "cell_id": "3c60c8e257224bf3a42127301d773442",
    "deepnote_cell_type": "text-cell-h3",
    "formattedRanges": []
   },
   "source": [
    "### XGBoost Feature Importance"
   ]
  },
  {
   "cell_type": "code",
   "execution_count": 28,
   "metadata": {
    "cell_id": "e516eafb27134dc9b2d8863dc368705c",
    "deepnote_cell_type": "code",
    "deepnote_to_be_reexecuted": false,
    "execution_millis": 97,
    "execution_start": 1702519407523,
    "source_hash": null
   },
   "outputs": [
    {
     "data": {
      "image/png": "[encoded data removed]",
      "text/plain": [
       "<Figure size 432x288 with 1 Axes>"
      ]
     },
     "metadata": {
      "needs_background": "light"
     },
     "output_type": "display_data"
    }
   ],
   "source": [
    "fi = pd.DataFrame(data=model.feature_importances_,\n",
    "             index=model.feature_names_in_,\n",
    "             columns=['importance'])\n",
    "fi.sort_values('importance').plot(kind='barh', title='Feature Importance')\n",
    "plt.show()"
   ]
  },
  {
   "cell_type": "markdown",
   "metadata": {
    "cell_id": "6486f12ceaae42a8bee74212da19c39a",
    "deepnote_cell_type": "text-cell-h3",
    "formattedRanges": []
   },
   "source": [
    "### Train, Test, & Predictions based on XGBoost Output"
   ]
  },
  {
   "cell_type": "code",
   "execution_count": 29,
   "metadata": {
    "cell_id": "3108cd778e8445bbaf424cfe831d314c",
    "deepnote_cell_type": "code",
    "deepnote_to_be_reexecuted": false,
    "execution_millis": 149,
    "execution_start": 1702519407666,
    "source_hash": null
   },
   "outputs": [
    {
     "data": {
      "image/png": "[encoded data removed]",
      "text/plain": [
       "<Figure size 720x432 with 1 Axes>"
      ]
     },
     "metadata": {
      "needs_background": "light"
     },
     "output_type": "display_data"
    },
    {
     "name": "stdout",
     "output_type": "stream",
     "text": [
      "                  GDP Status Train_Test  month  year   prediction\n",
      "DATE                                                             \n",
      "1999-04-01   9526.210    pre       test      4  1999  9457.962891\n",
      "1999-07-01   9686.626    pre       test      7  1999  9563.212891\n",
      "1999-10-01   9900.169    pre       test     10  1999  9725.116211\n",
      "2000-01-01  10002.179    pre       test      1  2000  9411.676758\n",
      "2000-04-01  10247.720    pre       test      4  2000  9457.962891\n",
      "2000-07-01  10318.165    pre       test      7  2000  9563.212891\n",
      "2000-10-01  10435.744    pre       test     10  2000  9725.116211\n",
      "2001-01-01  10470.231    pre       test      1  2001  9411.676758\n",
      "2001-04-01  10599.000    pre       test      4  2001  9457.962891\n",
      "2001-07-01  10598.020    pre       test      7  2001  9563.212891 \n",
      "\n",
      "[9478.833 9631.607 9779.323 9412.149 9478.833 9631.607 9779.323 9412.149\n",
      " 9478.833 9631.607]\n"
     ]
    }
   ],
   "source": [
    "plt.figure(figsize=(10,6))\n",
    "plt.ylabel('GDP')\n",
    "plt.xlabel('Date')\n",
    "plt.plot(train.index, train.GDP, color='black', label='Train')\n",
    "plt.plot(test.index, test.GDP, color='red', label='Test')\n",
    "plt.plot(test.index, model.predict(X_test), color='orange', label = 'XGBOOST Prediction')\n",
    "plt.legend()\n",
    "plt.xticks(rotation=45)\n",
    "plt.title('Train, Test, & Predictions for GDP ($ Billions)')\n",
    "plt.legend()\n",
    "plt.grid(True)\n",
    "plt.show()\n",
    "\n",
    "print(test,'\\n')\n",
    "print(model.predict(X_test))"
   ]
  },
  {
   "cell_type": "markdown",
   "metadata": {
    "cell_id": "c54a48d8298f43268d886593d191db6a",
    "deepnote_cell_type": "text-cell-h3",
    "formattedRanges": []
   },
   "source": [
    "### Visualizing GDP during Afghanistan War + Post War"
   ]
  },
  {
   "cell_type": "code",
   "execution_count": 30,
   "metadata": {
    "cell_id": "35b0b074b8dc4d40ac114b2a35ded292",
    "deepnote_cell_type": "code",
    "deepnote_to_be_reexecuted": false,
    "execution_millis": 123,
    "execution_start": 1702519407856,
    "source_hash": null
   },
   "outputs": [
    {
     "data": {
      "image/png": "[encoded data removed]",
      "text/plain": [
       "<Figure size 720x432 with 1 Axes>"
      ]
     },
     "metadata": {
      "needs_background": "light"
     },
     "output_type": "display_data"
    }
   ],
   "source": [
    "# Plot Afghanistan War\n",
    "plt.figure(figsize=(10,6))\n",
    "plt.ylabel('GDP')\n",
    "plt.xlabel('Date')\n",
    "plt.plot(afghanistan_war_df[afghanistan_war_df['Status'] != 'pre'].index,\n",
    "afghanistan_war_df[afghanistan_war_df['Status'] != 'pre'].GDP, color='black', label='GDP')\n",
    "plt.xticks(rotation=45)\n",
    "plt.title('GDP ($ Billions) During The Afghanistan War')\n",
    "plt.legend()\n",
    "plt.grid(True)\n",
    "plt.show()"
   ]
  },
  {
   "cell_type": "markdown",
   "metadata": {
    "cell_id": "29b74e5616514c0ab97bf6844aaea986",
    "deepnote_cell_type": "text-cell-h3",
    "formattedRanges": []
   },
   "source": [
    "### Getting Features for Afghanistan War + Post War"
   ]
  },
  {
   "cell_type": "code",
   "execution_count": 31,
   "metadata": {
    "cell_id": "b054f94c431b4e59840ae20ce45a3c78",
    "deepnote_cell_type": "code",
    "deepnote_to_be_reexecuted": false,
    "execution_millis": 14,
    "execution_start": 1702519407976,
    "source_hash": null
   },
   "outputs": [],
   "source": [
    "aw_df = create_features(afghanistan_war_df[afghanistan_war_df['Status'] != 'pre'])\n",
    "X = aw_df[FEATURES]\n",
    "y= aw_df[TARGET]\n",
    "aw_df['prediction'] = model.predict(X)"
   ]
  },
  {
   "cell_type": "markdown",
   "metadata": {
    "cell_id": "b359ccf3036b49f2aca48af6b477a30f",
    "deepnote_cell_type": "text-cell-h3",
    "formattedRanges": []
   },
   "source": [
    "### Visualizing GDP Actuals & Predictions for Afghanistan War + Post War"
   ]
  },
  {
   "cell_type": "code",
   "execution_count": 32,
   "metadata": {
    "cell_id": "317896ae507541e48cb62f62b7d72c86",
    "deepnote_cell_type": "code",
    "deepnote_to_be_reexecuted": false,
    "execution_millis": 294,
    "execution_start": 1702519408028,
    "source_hash": null
   },
   "outputs": [
    {
     "data": {
      "image/png": "[encoded data removed]",
      "text/plain": [
       "<Figure size 720x432 with 1 Axes>"
      ]
     },
     "metadata": {
      "needs_background": "light"
     },
     "output_type": "display_data"
    },
    {
     "name": "stdout",
     "output_type": "stream",
     "text": [
      "                  GDP  Status Train_Test  month  year   prediction\n",
      "DATE                                                              \n",
      "2001-10-01  10660.465  during        NaN     10  2001  9779.323242\n",
      "2002-01-01  10783.500  during        NaN      1  2002  9412.149414\n",
      "2002-04-01  10887.460  during        NaN      4  2002  9478.833008\n",
      "2002-07-01  10984.040  during        NaN      7  2002  9631.607422\n",
      "2002-10-01  11061.433  during        NaN     10  2002  9779.323242\n",
      "...               ...     ...        ...    ...   ...          ...\n",
      "2022-07-01  25994.639    post        NaN      7  2022  9631.607422\n",
      "2022-10-01  26408.405    post        NaN     10  2022  9779.323242\n",
      "2023-01-01  26813.601    post        NaN      1  2023  9412.149414\n",
      "2023-04-01  27063.012    post        NaN      4  2023  9478.833008\n",
      "2023-07-01  27644.463    post        NaN      7  2023  9631.607422\n",
      "\n",
      "[88 rows x 6 columns] \n",
      "\n",
      "[9478.833 9631.607 9779.323 9412.149 9478.833 9631.607 9779.323 9412.149\n",
      " 9478.833 9631.607]\n"
     ]
    }
   ],
   "source": [
    "plt.figure(figsize=(10,6))\n",
    "plt.ylabel('GDP')\n",
    "plt.xlabel('Date')\n",
    "plt.plot(aw_df.index, aw_df.GDP, color='black', label='Train')\n",
    "plt.plot(aw_df.index, model.predict(X), color='orange', label = 'XGBOOST Prediction')\n",
    "plt.gca().xaxis.set_major_locator(mdates.YearLocator((1)))\n",
    "plt.gca().xaxis.set_major_formatter(mdates.DateFormatter(\"%Y-%m-%d\"))\n",
    "plt.axvspan('2001-09-18', '2021-08-30', color='k', alpha=0.07)\n",
    "plt.text(aw_df.index[0],22500,'War Begins')\n",
    "plt.text(aw_df.index[80],22500,'War Ends')\n",
    "plt.legend()\n",
    "plt.xticks(rotation=45)\n",
    "plt.title('Afghanistan War Actuals & Predictions for GDP ($ Billions)')\n",
    "plt.legend()\n",
    "plt.grid(True)\n",
    "plt.show()\n",
    "\n",
    "print(aw_df,'\\n')\n",
    "print(model.predict(X_test))"
   ]
  },
  {
   "cell_type": "markdown",
   "metadata": {
    "cell_id": "7333f2e0261e41e8b5a228049bd9827c",
    "deepnote_cell_type": "text-cell-h3",
    "formattedRanges": []
   },
   "source": [
    "### XGBoost Model Score on Afghanistan War + Post War"
   ]
  },
  {
   "cell_type": "code",
   "execution_count": 33,
   "metadata": {
    "cell_id": "96fdf3ffb1c24933ba34b4fa36f5f917",
    "deepnote_cell_type": "code",
    "deepnote_to_be_reexecuted": false,
    "execution_millis": 15,
    "execution_start": 1702519408318,
    "source_hash": null
   },
   "outputs": [
    {
     "name": "stdout",
     "output_type": "stream",
     "text": [
      "RMSE Score on Test set: 8803.59\n"
     ]
    }
   ],
   "source": [
    "score = np.sqrt(mean_squared_error(aw_df['GDP'], aw_df['prediction']))\n",
    "print(f'RMSE Score on Test set: {score:0.2f}')"
   ]
  },
  {
   "cell_type": "markdown",
   "metadata": {
    "created_in_deepnote_cell": true,
    "deepnote_cell_type": "markdown"
   },
   "source": [
    "<a style='text-decoration:none;line-height:16px;display:flex;color:#5B5B62;padding:10px;justify-content:end;' href='https://deepnote.com?utm_source=created-in-deepnote-cell&projectId=ba1e4b21-f3e5-4d67-887d-75e6f1b74e8f' target=\"_blank\">\n",
    "<img alt='Created in deepnote.com' style='display:inline;max-height:16px;margin:0px;margin-right:7.5px;' src='data:image/svg+xml;base64,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' > </img>\n",
    "Created in <span style='font-weight:600;margin-left:4px;'>Deepnote</span></a>"
   ]
  }
 ],
 "metadata": {
  "deepnote": {},
  "deepnote_execution_queue": [],
  "deepnote_notebook_id": "80a792eee8984895a841f67fc4446b05",
  "deepnote_persisted_session": {
   "createdAt": "2023-12-14T03:15:28.925Z"
  },
  "kernelspec": {
   "display_name": "Python 3",
   "language": "python",
   "name": "python3"
  },
  "language_info": {
   "codemirror_mode": {
    "name": "ipython",
    "version": 3
   },
   "file_extension": ".py",
   "mimetype": "text/x-python",
   "name": "python",
   "nbconvert_exporter": "python",
   "pygments_lexer": "ipython3",
   "version": "3.8.5"
  }
 },
 "nbformat": 4,
 "nbformat_minor": 1
}
